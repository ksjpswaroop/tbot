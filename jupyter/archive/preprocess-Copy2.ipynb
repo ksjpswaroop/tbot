{
 "cells": [
  {
   "cell_type": "markdown",
   "metadata": {
    "collapsed": true
   },
   "source": [
    "# Pre-Processing Data to make to ready for analysis"
   ]
  },
  {
   "cell_type": "code",
   "execution_count": null,
   "metadata": {
    "collapsed": true
   },
   "outputs": [],
   "source": [
    "import numpy as np\n",
    "import pandas as pd\n",
    "import os , sys , glob\n"
   ]
  },
  {
   "cell_type": "code",
   "execution_count": null,
   "metadata": {
    "collapsed": true
   },
   "outputs": [],
   "source": [
    "# The environmet variable should be set at a system level rather than in code. Setting it now, as python is not picking it up.\n",
    "# HAVE A CONFIGURATION FILE TO PICK UP THESE VALUES. WE DO CONFIGURATION FILES GET STORED. \n",
    "# ARE JUPYTER NOTEBOOKS DEPLOYED IN PRODUCTION OR CONVERTED TO PYTHON COMPILD FILES\n",
    "\n",
    "#os.environ['DSX_PROJECT_DIR'] = \"C:\\\\Project\\\\Data\\\\raw\"\n",
    "os.environ['PROJECT_DIR'] = \"C:\\\\Users\\\\581686284\\\\PycharmProjects\\\\Automated_Ticket_Management\\\\\"\n",
    "\n",
    "# Getting the list of file in the directory\n",
    "\n",
    "apps_files = glob.glob(os.environ['PROJECT_DIR'] +  \"rawdata\\\\sm9\\\\apps\\\\*.csv\")\n",
    "windows_files = glob.glob(os.environ['PROJECT_DIR'] +  \"rawdata\\\\sm9\\\\windows\\\\*.csv\")"
   ]
  },
  {
   "cell_type": "code",
   "execution_count": null,
   "metadata": {},
   "outputs": [],
   "source": [
    "#%%timeit\n",
    "\n",
    "# Reading all apps files . TO-DO : We're getting a warning that we need to handle. \n",
    "# Using concat takes 1.78 s ± 39.3 ms per loop , compared to append which takes 2.92 s ± 55.2 ms per loop. Hence, using concat\n",
    "sm9_columns = ['Number','Assigned Dept','Assigned to','RBC Line Item Title','RBCMMPRITM','Submit Date','Close Date']\n",
    "apps_df = [ pd.read_csv(app_file , encoding='latin-1' , usecols=sm9_columns ) for app_file in apps_files ]\n",
    "apps_data = pd.concat(apps_df)\n",
    "apps_data.head()\n",
    "\n",
    "# apps_data = pd.DataFrame()\n",
    "# for app_file in apps_files:\n",
    "#     df = pd.read_csv(app_file , encoding='latin-1')\n",
    "#     #apps_data = pd.concat([apps_data,df])\n",
    "#     apps_data = apps_data.append(df,ignore_index=True)\n",
    "# apps_data.loc[apps_data['RBCMMPRITM'] == 'RITM1095465']\n",
    "\n",
    "# Number of tickets in apps data that have a value for RITM number\n",
    "#apps_data.loc[~apps_data['RBCMMPRITM'].isnull()]"
   ]
  },
  {
   "cell_type": "markdown",
   "metadata": {},
   "source": [
    "# Cleaning Data \n",
    "\n",
    "1. We want to consider only Applications & Windows tickets.\n",
    "2. We don't want to consider tickets where ticket has not been assigned to an analyst ( nan, Internal ). Convert Analyst Id to int to remove .0 (float).\n",
    "3. We want to remove columns that have only NaN values.\n",
    "\n",
    "\n",
    "5. OPEN QUESTION : HOW TO FIND LINE ITEM OF TICKETS IN SM9 WHICH HAVE NO RITM ? \n",
    "\n",
    "6. "
   ]
  },
  {
   "cell_type": "markdown",
   "metadata": {},
   "source": [
    "# Cleaning Apps Data from SM9"
   ]
  },
  {
   "cell_type": "code",
   "execution_count": null,
   "metadata": {},
   "outputs": [],
   "source": [
    "# Give me all tickets where RITM is null \n",
    "\n",
    "# apps_tickets_no_RITM = apps_data.loc[apps_data['RBCMMPRITM'].isnull()]\n",
    "# apps_tickets_no_RITM.to_csv(path_or_buf= os.environ['PROJECT_DIR'] + \"\\\\temp\\\\apps_tickets_no_RITM.csv\" , encoding=\"Latin-1\" , index = False)\n",
    "\n",
    "# Give me all tickets where RITM is null , but Assigned To isn't \n",
    "\n",
    "# Give me all tickets where RITM is null \n",
    "#apps_data.columns\n",
    "apps_tickets_no_RITM_but_assigned = apps_data.loc[apps_data['RBCMMPRITM'].isnull() & ~apps_data['Assigned to'].isnull()]\n",
    "#len(apps_tickets_no_RITM_but_assigned)\n",
    "#25744\n",
    "#apps_tickets_no_RITM.to_csv(path_or_buf= os.environ['PROJECT_DIR'] + \"\\\\temp\\\\apps_tickets_no_RITM.csv\" , encoding=\"Latin-1\" , index = False)\n",
    "#len(apps_data)\n",
    "#128080\n",
    "#apps_data['Assigned Dept'].value_counts()"
   ]
  },
  {
   "cell_type": "code",
   "execution_count": null,
   "metadata": {},
   "outputs": [],
   "source": [
    "apps_data = apps_data.loc[apps_data['Assigned Dept'] == 'EAA_APPLICATION SERVICES_IMPL']\n",
    "len(apps_data)\n",
    "#106136\n",
    "#apps_data.head()\n",
    "# def object_to_int(x):\n",
    "#     try:\n",
    "#         return round(int(x))\n",
    "#     except ValueError:\n",
    "#         return None\n",
    "    \n",
    "# Converts objects to int (upcasted to float) & set None for those that can't be converted (NaN , Internal)\n",
    "# apps_data['Assigned to'] = apps_data['Assigned to'].apply(object_to_int)\n",
    "\n",
    "# apps_data.head()\n",
    "\n",
    "# Remove those tickets that don't have Analyst linked to it. Noise. \n",
    "apps_data = apps_data[pd.notnull(apps_data['Assigned to'])]\n",
    "#len(apps_data)\n",
    "#104606\n",
    "# Convert from float to int. All tickets that are assigned are now ints. Int are faster to process , is primitive, so takes \n",
    "# less memory\n",
    "\n",
    "#apps_data['Assigned to'] = pd.to_numeric(apps_data['Assigned to'])\n",
    "\n",
    "# Drop all columns having only NaN values (All unamed columns are filtered out)\n",
    "\n",
    "#apps_data.dropna(axis=1, how='all' , inplace=True)\n",
    "\n",
    "\n",
    "\n",
    "apps_data.head()\n",
    "#apps_data.loc[apps_data['Assigned to'].isnull()]"
   ]
  },
  {
   "cell_type": "markdown",
   "metadata": {},
   "source": [
    "# Cleaning Windows Data from SM9"
   ]
  },
  {
   "cell_type": "code",
   "execution_count": null,
   "metadata": {},
   "outputs": [],
   "source": [
    "#%%timeit\n",
    "\n",
    "# Using concat takes 5.39 s ± 340 ms per loop , compared to append which takes 6.69 s ± 375 ms per loop. Hence, using concat\n",
    "\n",
    "windows_df = [ pd.read_csv(windows_file , encoding='latin-1' , usecols=sm9_columns) for windows_file in windows_files ]\n",
    "windows_data = pd.concat(windows_df)\n",
    "windows_data.head()\n",
    "\n",
    "# windows_data = pd.DataFrame()\n",
    "# for windows_file in windows_files:\n",
    "#     df = pd.read_csv(windows_file , encoding='latin-1')\n",
    "#     #windows_data = pd.concat([windows_data,df])\n",
    "#     windows_data = windows_data.append(df,ignore_index=True)\n",
    "# windows_data"
   ]
  },
  {
   "cell_type": "code",
   "execution_count": null,
   "metadata": {},
   "outputs": [],
   "source": [
    "# Give me all tickets where RITM is null \n",
    "\n",
    "# win_tickets_no_RITM = windows_data.loc[windows_data['RBCMMPRITM'].isnull()]\n",
    "# win_tickets_no_RITM.to_csv(path_or_buf= os.environ['PROJECT_DIR'] + \"\\\\temp\\\\win_tickets_no_RITM.csv\" , encoding=\"Latin-1\" , index = False)\n",
    "\n",
    "# Give me all tickets where RITM is null , but Assigned To isn't \n",
    "\n",
    "# Give me all tickets where RITM is null \n",
    "#apps_data.columns\n",
    "# win_tickets_no_RITM_but_assigned = windows_data.loc[windows_data['RBCMMPRITM'].isnull() & ~windows_data['Assigned to'].isnull()]\n",
    "# len(win_tickets_no_RITM_but_assigned)\n",
    "# #win_tickets_no_RITM_but_assigned.to_csv(path_or_buf= os.environ['PROJECT_DIR'] + \"\\\\temp\\\\win_tickets_no_RITM_but_assigned.csv\" , encoding=\"Latin-1\" , index = False)\n",
    "# len(windows_data)\n",
    "#windows_data['Assigned Dept'].value_counts()\n",
    "len(windows_data)"
   ]
  },
  {
   "cell_type": "code",
   "execution_count": null,
   "metadata": {},
   "outputs": [],
   "source": [
    "windows_data = windows_data.loc[windows_data['Assigned Dept'] == 'EAA_WINDOWS SERVICES_IMPL']\n",
    "#len(windows_data)\n",
    "# def object_to_int(x):\n",
    "#     try:\n",
    "#         return round(int(x))\n",
    "#     except ValueError:\n",
    "#         return None\n",
    "    \n",
    "# # Converts objects to int (upcasted to float) & set None for those that can't be converted (NaN , Internal)\n",
    "# windows_data['Assigned to'] = windows_data['Assigned to'].apply(object_to_int)\n",
    "\n",
    "# Remove those tickets that don't have Analyst linked to it. Noise. \n",
    "windows_data = windows_data[pd.notnull(windows_data['Assigned to'])]\n",
    "\n",
    "# Convert from float to int. All tickets that are assigned are now ints. Int are faster to process , is primitive, so takes \n",
    "# less memory\n",
    "\n",
    "# windows_data['Assigned to'] = pd.to_numeric(windows_data['Assigned to'])\n",
    "\n",
    "# # Drop all columns having only NaN values (All unamed columns are filtered out)\n",
    "\n",
    "# windows_data.dropna(axis=1, how='all' , inplace=True)\n",
    "\n",
    "windows_data.head()"
   ]
  },
  {
   "cell_type": "code",
   "execution_count": null,
   "metadata": {
    "collapsed": true
   },
   "outputs": [],
   "source": []
  },
  {
   "cell_type": "code",
   "execution_count": null,
   "metadata": {
    "collapsed": true
   },
   "outputs": [],
   "source": [
    "#%timeit\n",
    "sm9_data = pd.concat([apps_data , windows_data])\n",
    "sm9_data.to_csv(path_or_buf= os.environ['PROJECT_DIR'] + \"\\\\datasets\\\\sm9.csv\" , encoding=\"Latin-1\" , index = False)\n",
    "\n",
    "## NOTE : WHEN YOU LOAD SM9_DATA FROM CSV YOU NEED TO CONVERT THE ASSIGNED TO COLUMN TO INTEGER INSTEAD OF FLOAT. "
   ]
  },
  {
   "cell_type": "code",
   "execution_count": null,
   "metadata": {},
   "outputs": [],
   "source": [
    "# test_sm9_data = pd.read_csv(os.environ['PROJECT_DIR'] + \"\\\\datasets\\\\sm9.csv\" , encoding=\"Latin-1\")\n",
    "# test_sm9_data.head()\n",
    "\n",
    "# Converts objects to int (upcasted to float) & set None for those that can't be converted (NaN , Internal)\n",
    "# test_sm9_data['Assigned to'] = test_sm9_data['Assigned to'].apply(object_to_int)\n",
    "\n",
    "# test_sm9_data['Assigned to'] = pd.to_numeric(test_sm9_data['Assigned to'])\n",
    "sm9_data.head()\n",
    "sm9_data.info()\n",
    "\n",
    "len(sm9_data)"
   ]
  },
  {
   "cell_type": "code",
   "execution_count": null,
   "metadata": {},
   "outputs": [],
   "source": [
    "# len(sm9_data['RBCMMPRITM'].unique())\n",
    "\n",
    "# sm9_data['RBCMMPRITM'].value_counts()\n",
    "\n",
    "sm9_data.head()\n",
    "#233575\n",
    "\n",
    "# Tickets that have been assigned, but don't have an RITM. These are tickets created from systems other than Service Now.\n",
    "# sm9_data_no_RITM_but_assigned = sm9_data.loc[~sm9_data['Assigned to'].isnull() & sm9_data['RBCMMPRITM'].isnull()]\n",
    "# len(sm9_data_no_RITM_but_assigned)\n",
    "# 33461\n",
    "\n",
    "# Tickets that have an RITM & have been assigned \n",
    "# sm9_data_RITM_and_assigned = sm9_data.loc[~sm9_data['Assigned to'].isnull() & ~sm9_data['RBCMMPRITM'].isnull()]\n",
    "# len(sm9_data_RITM_and_assigned)\n",
    "# 200114\n",
    "\n",
    "sm9_data.rename(columns={\"Assigned Dept\" : \"Assigned_Dept\" , \"Assigned to\" : \"Assigned_To\" , \"RBC Line Item Title\" : \"RBC_Line_Item_Title\" ,'RBCMMPRITM' : 'RITM_Number'  } , inplace= True)\n",
    "sm9_data.info()\n",
    "sm9_data.head()"
   ]
  },
  {
   "cell_type": "code",
   "execution_count": null,
   "metadata": {},
   "outputs": [],
   "source": [
    "#Get all tickets which has the same RITM Number. Analyze them\n",
    "\n",
    "#sm9_data.groupby('RBCMMPRITM').value_counts()\n",
    "#sm9_data['RBCMMPRITM'].value_counts().head()\n",
    "\n",
    "# Get me all tickets where RITM is null \n",
    "# sm9_ritm_is_null = sm9_data.loc[sm9_data['RITM_Number'].isnull()]\n",
    "# sm9_ritm_is_null.to_csv(path_or_buf= os.environ['PROJECT_DIR'] + \"\\\\temp\\\\sm9_ritm_is_null.csv\" , encoding=\"Latin-1\" , index = False)\n",
    "len(sm9_data.loc[sm9_data['RITM_Number'].isnull()])"
   ]
  },
  {
   "cell_type": "code",
   "execution_count": null,
   "metadata": {},
   "outputs": [],
   "source": [
    "sm9_data_rbc_line_item_title_not_null = sm9_data.loc[~sm9_data['RBC_Line_Item_Title'].isnull()]\n",
    "sm9_data_rbc_line_item_title_not_null.loc[sm9_data_rbc_line_item_title_not_null['RBC_Line_Item_Title'].str.contains('A termination request has recently been submit')]"
   ]
  },
  {
   "cell_type": "code",
   "execution_count": null,
   "metadata": {},
   "outputs": [],
   "source": [
    "sm9_data_rbc_line_item_title_not_null.loc[sm9_data_rbc_line_item_title_not_null['RBC_Line_Item_Title'].str.contains('Access Manager manual termination request') & sm9_data_rbc_line_item_title_not_null['RITM_Number'].isnull() ]"
   ]
  },
  {
   "cell_type": "code",
   "execution_count": null,
   "metadata": {},
   "outputs": [],
   "source": [
    "#sm9_data.loc[sm9_data['RBCMMPRITM'] == 'RITM1095465']\n",
    "\n",
    "sm9_data['RBC_Line_Item_Title'].loc[sm9_data['Number'] == 'Q02360722-001']"
   ]
  },
  {
   "cell_type": "code",
   "execution_count": null,
   "metadata": {
    "collapsed": true
   },
   "outputs": [],
   "source": [
    "# Renaming columns as having spaces between columns in not a good practice. \n",
    "\n",
    "\n",
    "#sm9_data.rename(columns={\"Assigned Dept\" : \"Assigned_Dept\" , \"Assigned to\" : \"Assigned_To\" , \"Close Date\" : \"Close_Date\", \"RBC Line Item Title\" : \"RBC_Line_Item_Title\" , \"Rbc Description\" : \"Rbc_Description\" , \"Submit Date\" : \"Submit_Date\"  } , inplace= True)\n",
    "\n",
    "\n",
    "# print(len(sm9_data))\n",
    "# print(len(sm9_data['Number'].unique().tolist()))\n",
    "#sm9_data.head()\n",
    "\n",
    "#sm9_data.groupby(['Assigned_Dept','Assigned_To']).groups['EAA_WINDOWS SERVICES_IMPL']\n",
    "\n",
    "#temp = sm9_data.groupby(['Assigned_Dept','Assigned_To'])['Assigned_To'].count().reset_index(name='count').sort_values(['count'], ascending=False)\n",
    "\n",
    "# grouped = sm9_data.groupby(['Assigned_Dept','Assigned_To'], sort=False).count()\n",
    "# grouped.sort_index(ascending=True)\n",
    "# grouped\n",
    "\n",
    "\n",
    "\n",
    "#sm9_data.groupby(['Assigned_Dept','Assigned_To'])['Assigned_To'].count()\n",
    "\n",
    "\n",
    "\n",
    "#sm9_data.groupby(['Assigned_Dept','Assigned_To'])['Assigned_To'].count()\n",
    "\n",
    "#sm9_data.sort_values(['Assigned_Dept','Assigned_To'],ascending=False).groupby(['Assigned_Dept','Assigned_To']).head(10)\n",
    "#sm9_data['count'] = sm9_data.groupby(['Assigned_Dept','Assigned_To']).count()\n",
    "\n",
    "#sm9_data\n",
    "#grouped.keys()\n",
    "#grouped.sort_values(['Assigned_Dept','Assigned_To'], ascending=False)\n",
    "\n",
    "#temp.groupby(['Assigned_Dept','Assigned_To']).count()   \n",
    "\n",
    "#sm9_data.groupby(['Assigned_Dept','Assigned_To'])['Assigned_To'].count()\n",
    "\n",
    "#sm9_data.groupby('Assigned_Dept')['Assigned_To']\n",
    "\n",
    "#temp\n",
    "\n",
    "#len(sm9_data)\n",
    "\n",
    "# ARE THERE COMMON LINE ITEMS BETWEEN WINDOWS & APPLICATION TICKETS. \n",
    "\n",
    "#pd.pivot_table(sm9_data, index = ['Assigned_To'] , columns=['Assigned_Dept'])"
   ]
  },
  {
   "cell_type": "markdown",
   "metadata": {
    "collapsed": true
   },
   "source": [
    "# Cleaning Service Now Data"
   ]
  },
  {
   "cell_type": "markdown",
   "metadata": {},
   "source": [
    "We're only concerned with tickets that have been assigned to analyst. Based on inputs from domain experts "
   ]
  },
  {
   "cell_type": "code",
   "execution_count": null,
   "metadata": {},
   "outputs": [],
   "source": [
    "import pandas as pd\n",
    "import glob , os\n",
    "\n",
    "#sn_columns = ['cat_item','u_assignment_group','opened_by.u_rbchrplatformdesc','opened_by.u_rbchrplatformcode','opened_by.u_rbcbufugudesc','opened_by.u_rbcbufugu']\n",
    "\n",
    "sn_columns = ['Number','Item','Stage', 'State','Assignment Group']\n",
    "sn_files = glob.glob(os.environ['PROJECT_DIR'] +  \"rawdata\\\\sn\\\\*.csv\")\n",
    "\n",
    "#sn_df = [pd.read_csv(sn_file , encoding='latin-1') for sn_file in sn_files]\n",
    "sn_df = [pd.read_csv(sn_file , encoding='latin-1', usecols=sn_columns) for sn_file in sn_files]\n",
    "\n",
    "sn_data = pd.concat(sn_df)\n",
    "\n",
    "# sn_data = pd.read_csv(os.environ['PROJECT_DIR']+'rawdata\\\\sn\\\\*.csv' , encoding='latin-1' , \n",
    "#                       usecols= sn_columns )\n",
    "\n",
    "#Filter Service Now data to contain only Windows & Application Services ticket\n",
    "\n",
    "#sn_data['u_assignment_group'].value_counts()\n",
    "\n",
    "sn_win_app_data = sn_data.loc[sn_data['Assignment Group'].isin(['EAA_WINDOWS SERVICES_IMPL' , 'EAA_APPLICATION SERVICES_IMPL'])]\n",
    "#sn_win_app_data['u_assignment_group'].unique().tolist()\n",
    "\n",
    "sn_win_app_data.rename(inplace = True , columns={'Number' : 'RITM_Number' , 'Assignment Group' : 'Assigned_Dept'})\n",
    "\n",
    "#sn_win_app_data.groupby('cat_item')['u_assignment_group'].first() \n",
    "#len(sn_win_app_data)\n",
    "sn_win_app_data = sn_win_app_data.loc[sn_win_app_data['Stage'].isin(['Completed','Fulfillment'])]\n",
    "#len(sn_data)\n",
    "#41930\n",
    "#sn_data['State'].value_counts()\n",
    "len(sn_win_app_data)\n",
    "# sn_data['Stage'][sn_data['State'] != 'Closed Complete']"
   ]
  },
  {
   "cell_type": "code",
   "execution_count": null,
   "metadata": {},
   "outputs": [],
   "source": [
    "sn_win_app_data['Stage'].value_counts()\n",
    "\n",
    "#len(sn_win_app_data['RITM_Number'].unique())"
   ]
  },
  {
   "cell_type": "code",
   "execution_count": null,
   "metadata": {},
   "outputs": [],
   "source": [
    "#sn_win_app_data.loc[sn_win_app_data['RITM_Number'] == 'RITM1095465']\n",
    "#RITM1757155\n",
    "sn_data = sn_win_app_data[['RITM_Number','Assigned_Dept','Item']]\n",
    "sn_data.shape\n",
    "#len(sn_ritm)"
   ]
  },
  {
   "cell_type": "code",
   "execution_count": null,
   "metadata": {},
   "outputs": [],
   "source": [
    "sn_win_app_data['State'].value_counts()"
   ]
  },
  {
   "cell_type": "code",
   "execution_count": null,
   "metadata": {},
   "outputs": [],
   "source": [
    "# len(sm9_data.loc[sm9_data['RBCMMPRITM'].isin(sn_ritm)])\n",
    "# 22454\n",
    "\n",
    "#sm9_data.loc[sm9_data['RBCMMPRITM'].isin(sn_ritm)].head()\n",
    "#len(sm9_data.loc[sm9_data['RITM_Number'].isin(sn_ritm)])\n",
    "\n",
    "#len(sm9_data.loc[sm9_data['RITM_Number'].isin(sn_ritm)])\n",
    "sn_data.info()"
   ]
  },
  {
   "cell_type": "code",
   "execution_count": null,
   "metadata": {
    "collapsed": true
   },
   "outputs": [],
   "source": [
    "# df_1 = sm9_data.loc[sm9_data['RBCMMPRITM'].isin(sn_ritm)]\n",
    "# len(df_1['RBCMMPRITM'].unique())\n",
    "\n",
    "# len(sm9_data.loc[sm9_data['RBCMMPRITM'].isin(sn_ritm)])"
   ]
  },
  {
   "cell_type": "code",
   "execution_count": null,
   "metadata": {
    "collapsed": true
   },
   "outputs": [],
   "source": [
    "\n",
    "# df_1['RBCMMPRITM'].value_counts()"
   ]
  },
  {
   "cell_type": "code",
   "execution_count": null,
   "metadata": {
    "collapsed": true
   },
   "outputs": [],
   "source": [
    "# sm9_data.columns\n",
    "#sm9_data.rename(columns = {'RBCMMPRITM' : 'RITM_Number'} , inplace = True)\n",
    "#sm9_data.loc[sm9_data['RITM_Number'] == 'RITM0583284']\n",
    "#sm9_data.loc[sm9_data['RITM_Number'] == 'RITM0642300']\n"
   ]
  },
  {
   "cell_type": "code",
   "execution_count": null,
   "metadata": {
    "collapsed": true
   },
   "outputs": [],
   "source": [
    "#sn_win_app_data.loc[sn_win_app_data['RITM_Number'] == 'RITM0583284']\n",
    "#sn_win_app_data.loc[sn_win_app_data['RITM_Number'] == 'RITM0642300']\n"
   ]
  },
  {
   "cell_type": "code",
   "execution_count": null,
   "metadata": {
    "collapsed": true
   },
   "outputs": [],
   "source": [
    "# # Playing with Merging \n",
    "\n",
    "# import pandas as pd\n",
    "\n",
    "# df1 = pd.DataFrame({'HPI':[80,85,88,85],\n",
    "#                     'Int_rate':[2, 3, 2, 2],\n",
    "#                     'US_GDP_Thousands':[50, 55, 65, 55]},\n",
    "#                    index = [2001, 2002, 2003, 2004])\n",
    "\n",
    "# df2 = pd.DataFrame({'HPI':[80,85,88,85],\n",
    "#                     'Int_rate':[2, 3, 2, 2],\n",
    "#                     'US_GDP_Thousands':[50, 55, 65, 55]},\n",
    "#                    index = [2005, 2006, 2007, 2008])\n",
    "\n",
    "# df3 = pd.DataFrame({'HPI':[80,85,88,85],\n",
    "#                     'Unemployment':[7, 8, 9, 6],\n",
    "#                     'Low_tier_HPI':[50, 52, 50, 53]},\n",
    "#                    index = [2001, 2002, 2003, 2004])\n",
    "\n",
    "# print(pd.merge(df1,df3, on='HPI'))"
   ]
  },
  {
   "cell_type": "code",
   "execution_count": null,
   "metadata": {
    "collapsed": true
   },
   "outputs": [],
   "source": [
    "#sm9_data.head()\n",
    "\n",
    "#sm9_data_1 = sm9_data[['Number','Rbc Description' , 'Assigned to','RITM_Number','Assigned Dept',]]\n",
    "#sm9_data.columns"
   ]
  },
  {
   "cell_type": "code",
   "execution_count": null,
   "metadata": {},
   "outputs": [],
   "source": [
    "# sn_win_app_data.head()\n",
    "\n",
    "# sn_win_app_data_1 = sn_win_app_data[['RITM_Number','Item','Assigned Dept']]\n",
    "sn_data.info()"
   ]
  },
  {
   "cell_type": "code",
   "execution_count": null,
   "metadata": {},
   "outputs": [],
   "source": [
    "sm9_data.info()"
   ]
  },
  {
   "cell_type": "code",
   "execution_count": null,
   "metadata": {},
   "outputs": [],
   "source": [
    "merged_data = pd.merge(sn_data,sm9_data, on='RITM_Number', how='outer')\n",
    "#merged_data.loc[merged_data['RITM_Number'] == 'RITM0583284']\n",
    "#merged_data.head()\n",
    "len(merged_data)\n",
    "#256328\n",
    "#merged_data.head(10)\n",
    "\n",
    "# merged_data.loc[merged_data['RITM_Number'].isnull()]\n",
    "# 33461"
   ]
  },
  {
   "cell_type": "code",
   "execution_count": null,
   "metadata": {
    "collapsed": true
   },
   "outputs": [],
   "source": [
    "# All tickets which are not assigned to an analyst \n",
    "\n",
    "# We need to ensure we don't consider tickets that are not present in SM9, since they are auto-resolved. Do thhis only after \n",
    "# you receive confirmation on email sent out to Nadia / Blake on 19th June 2018. \n",
    "\n",
    "merged_data_not_assigned = merged_data.loc[merged_data['Assigned_To'].isnull()]\n",
    "merged_data_not_assigned['Item'].value_counts()\n",
    "merged_data_not_assigned.to_csv(path_or_buf= os.environ['PROJECT_DIR'] + \"\\\\temp\\\\merged_data_not_assigned.csv\" , encoding=\"Latin-1\" , index = False)\n",
    "#len(merged_data_not_assigned)\n",
    "#22753\n",
    "\n",
    "# Tickets that are assigned to analyst \n",
    "\n",
    "# merged_data_assigned = merged_data.loc[~merged_data['Assigned_To'].isnull()]\n",
    "# len(merged_data_assigned)\n",
    "#233575\n",
    "\n",
    "#merged_data_assigned['RITM_Number'].value_counts()"
   ]
  },
  {
   "cell_type": "code",
   "execution_count": null,
   "metadata": {},
   "outputs": [],
   "source": [
    "merged_data_assigned.loc[merged_data_assigned['RITM_Number'] == 'RITM0998292']"
   ]
  },
  {
   "cell_type": "code",
   "execution_count": null,
   "metadata": {
    "collapsed": true
   },
   "outputs": [],
   "source": [
    "# Give me all tickets / rows where no column has NaN \n",
    "\n",
    "#len(merged_data.dropna(axis=0 , how=\"any\" ))\n",
    "#22215\n",
    "\n",
    "#merged_data.loc[merged_data.isnull().  ]\n",
    "\n",
    "#len(merged_data)\n",
    "#264095\n",
    "\n",
    "merged_data.dropna(axis=0 , how=\"any\")"
   ]
  },
  {
   "cell_type": "code",
   "execution_count": null,
   "metadata": {},
   "outputs": [],
   "source": [
    "# Analysis of ticket present in Service Now, but not in SM9. \n",
    "# NOTE : WE ARE YET TO HAVE SERVICE NOW DATA FOR 2018. \n",
    "\n",
    "sn_data.info()\n",
    "sm9_data.loc[sm9_data['RITM_Number'] == 'RITM1095465']"
   ]
  },
  {
   "cell_type": "code",
   "execution_count": null,
   "metadata": {},
   "outputs": [],
   "source": [
    "# Get me data where \n",
    "merged_data_assigned_temp = merged_data_assigned.loc[~merged_data_assigned['Item'].isnull()]\n",
    "merged_data_assigned_temp.loc[merged_data_assigned_temp['Item'].str.contains('Personal Mailbox Access')]"
   ]
  },
  {
   "cell_type": "code",
   "execution_count": 6,
   "metadata": {},
   "outputs": [
    {
     "data": {
      "text/html": [
       "<div>\n",
       "<style>\n",
       "    .dataframe thead tr:only-child th {\n",
       "        text-align: right;\n",
       "    }\n",
       "\n",
       "    .dataframe thead th {\n",
       "        text-align: left;\n",
       "    }\n",
       "\n",
       "    .dataframe tbody tr th {\n",
       "        vertical-align: top;\n",
       "    }\n",
       "</style>\n",
       "<table border=\"1\" class=\"dataframe\">\n",
       "  <thead>\n",
       "    <tr style=\"text-align: right;\">\n",
       "      <th></th>\n",
       "      <th>number</th>\n",
       "      <th>opened_at</th>\n",
       "      <th>state</th>\n",
       "      <th>closed_at</th>\n",
       "      <th>u_interaction_id</th>\n",
       "      <th>cat_item</th>\n",
       "      <th>u_assignment_group</th>\n",
       "    </tr>\n",
       "  </thead>\n",
       "  <tbody>\n",
       "    <tr>\n",
       "      <th>0</th>\n",
       "      <td>RITM0507150</td>\n",
       "      <td>2017/01/01 11:02</td>\n",
       "      <td>Pending</td>\n",
       "      <td>NaN</td>\n",
       "      <td>NaN</td>\n",
       "      <td>Modify Distribution List - Restrictions</td>\n",
       "      <td>EAA_WINDOWS SERVICES_IMPL</td>\n",
       "    </tr>\n",
       "    <tr>\n",
       "      <th>1</th>\n",
       "      <td>RITM0507208</td>\n",
       "      <td>2017/01/02 4:47</td>\n",
       "      <td>Closed Complete</td>\n",
       "      <td>2017/01/03 12:34</td>\n",
       "      <td>NaN</td>\n",
       "      <td>Existing Network Folder/Shared Drive  Add/Remove</td>\n",
       "      <td>EAA_WINDOWS SERVICES_IMPL</td>\n",
       "    </tr>\n",
       "    <tr>\n",
       "      <th>2</th>\n",
       "      <td>RITM0507222</td>\n",
       "      <td>2017/01/02 5:12</td>\n",
       "      <td>Closed Complete</td>\n",
       "      <td>2017/01/02 7:05</td>\n",
       "      <td>NaN</td>\n",
       "      <td>Add User to Group</td>\n",
       "      <td>EAA_WINDOWS SERVICES_IMPL</td>\n",
       "    </tr>\n",
       "    <tr>\n",
       "      <th>3</th>\n",
       "      <td>RITM0507228</td>\n",
       "      <td>2017/01/02 5:51</td>\n",
       "      <td>Closed Complete</td>\n",
       "      <td>2017/01/04 11:57</td>\n",
       "      <td>SD09972560</td>\n",
       "      <td>Service Manager 9 - User Access</td>\n",
       "      <td>EAA_APPLICATION SERVICES_IMPL</td>\n",
       "    </tr>\n",
       "    <tr>\n",
       "      <th>4</th>\n",
       "      <td>RITM0507231</td>\n",
       "      <td>2017/01/02 6:00</td>\n",
       "      <td>Closed Complete</td>\n",
       "      <td>2017/01/04 17:34</td>\n",
       "      <td>SD09972577</td>\n",
       "      <td>Add User to Group</td>\n",
       "      <td>EAA_WINDOWS SERVICES_IMPL</td>\n",
       "    </tr>\n",
       "  </tbody>\n",
       "</table>\n",
       "</div>"
      ],
      "text/plain": [
       "        number         opened_at            state         closed_at  \\\n",
       "0  RITM0507150  2017/01/01 11:02          Pending               NaN   \n",
       "1  RITM0507208   2017/01/02 4:47  Closed Complete  2017/01/03 12:34   \n",
       "2  RITM0507222   2017/01/02 5:12  Closed Complete   2017/01/02 7:05   \n",
       "3  RITM0507228   2017/01/02 5:51  Closed Complete  2017/01/04 11:57   \n",
       "4  RITM0507231   2017/01/02 6:00  Closed Complete  2017/01/04 17:34   \n",
       "\n",
       "  u_interaction_id                                           cat_item  \\\n",
       "0              NaN            Modify Distribution List - Restrictions   \n",
       "1              NaN  Existing Network Folder/Shared Drive  Add/Remove   \n",
       "2              NaN                                  Add User to Group   \n",
       "3       SD09972560                    Service Manager 9 - User Access   \n",
       "4       SD09972577                                  Add User to Group   \n",
       "\n",
       "              u_assignment_group  \n",
       "0      EAA_WINDOWS SERVICES_IMPL  \n",
       "1      EAA_WINDOWS SERVICES_IMPL  \n",
       "2      EAA_WINDOWS SERVICES_IMPL  \n",
       "3  EAA_APPLICATION SERVICES_IMPL  \n",
       "4      EAA_WINDOWS SERVICES_IMPL  "
      ]
     },
     "execution_count": 6,
     "metadata": {},
     "output_type": "execute_result"
    }
   ],
   "source": [
    "import os , glob\n",
    "import pandas as pd\n",
    "\n",
    "os.environ['PROJECT_DIR'] = \"C:\\\\Users\\\\581686284\\\\PycharmProjects\\\\Automated_Ticket_Management\\\\\"\n",
    "\n",
    "sn_files = glob.glob(os.environ['PROJECT_DIR'] +  \"rawdata\\\\sn\\\\*.csv\")\n",
    "\n",
    "sn_df = [pd.read_csv(sn_file , encoding='latin-1') for sn_file in sn_files]\n",
    "sn_data = pd.concat(sn_df)\n",
    "#sn_df = pd.read_csv('C:\\\\Users\\\\581686284\\\\PycharmProjects\\\\Automated_Ticket_Management\\\\rawdata\\\\sn\\\\sc_req_item.csv', encoding='latin-1')\n",
    "#sn_df.head()\n",
    "\n",
    "# sn_df = \n",
    "\n",
    "sn_data.head()\n",
    "# # sn_df.head()"
   ]
  },
  {
   "cell_type": "code",
   "execution_count": 1,
   "metadata": {},
   "outputs": [
    {
     "data": {
      "text/plain": [
       "'Hello'"
      ]
     },
     "execution_count": 1,
     "metadata": {},
     "output_type": "execute_result"
    }
   ],
   "source": [
    "'Hello'"
   ]
  },
  {
   "cell_type": "code",
   "execution_count": null,
   "metadata": {
    "collapsed": true
   },
   "outputs": [],
   "source": []
  }
 ],
 "metadata": {
  "kernelspec": {
   "display_name": "Python 3",
   "language": "python",
   "name": "python3"
  },
  "language_info": {
   "codemirror_mode": {
    "name": "ipython",
    "version": 3
   },
   "file_extension": ".py",
   "mimetype": "text/x-python",
   "name": "python",
   "nbconvert_exporter": "python",
   "pygments_lexer": "ipython3",
   "version": "3.6.2"
  }
 },
 "nbformat": 4,
 "nbformat_minor": 1
}
